{
 "cells": [
  {
   "cell_type": "markdown",
   "id": "df06f634",
   "metadata": {},
   "source": [
    "<center>  <h1>  Fiche TP4 </h1></center>"
   ]
  },
  {
   "cell_type": "markdown",
   "id": "3de4db29",
   "metadata": {},
   "source": [
    "- Hanifi Fatima El-Batoul\n",
    "- Groupe 02 IAA"
   ]
  },
  {
   "cell_type": "code",
   "execution_count": 1,
   "id": "06d2a478",
   "metadata": {},
   "outputs": [],
   "source": [
    "#Bibliothèques \n",
    "import numpy as np\n",
    "import pandas as pd\n",
    "from io import StringIO\n",
    "import cv2\n",
    "import matplotlib.pyplot as plt\n",
    "# Importing necessary libraries\n",
    "from Bio import Phylo\n",
    "from Bio.Phylo.TreeConstruction import DistanceCalculator\n",
    "from Bio.Phylo.TreeConstruction import DistanceTreeConstructor\n",
    "from Bio import AlignIO"
   ]
  },
  {
   "cell_type": "markdown",
   "id": "1856779f",
   "metadata": {},
   "source": [
    "En premier lieu nous allons initialiser nos cinque séquences sous forme de tableaux (chaque tableau correspond à une séquance et chaque case de tableau contient une base \"A,G,C,T\" ordonné selon les séquences qui ont été données dans l'énoncer du TP), nous initialiserons également indel \"_\", idt = 2 qui correpond à l'indentité soit que les deux bases soit pareille, sub = 1 qui représente la substitution soit deux bases différentes et le gap = -2  "
   ]
  },
  {
   "cell_type": "code",
   "execution_count": 2,
   "id": "e92d11e7",
   "metadata": {},
   "outputs": [],
   "source": [
    "#Initialisation \n",
    "\n",
    "seq1 = ['A','C','G','C','G','A','T','G','A','C','C','G','G','G','C','C','T','T','G','T','A','A','A','A','T']\n",
    "seq2 = ['A','C','C','C','T','A','C','C','T','G','T','C','G','T','A','T','T','G','T','A','A','T']\n",
    "seq3 = ['A','T','G','A','T','G','A','C','A','G','G','G','C','T','T','G','T','A','A','C','T']\n",
    "seq4 = ['T','T','C','A','T','G','A','C','C','G','G','C','T','T','A','T','A','C','T','T','A','T']\n",
    "seq5 = ['T','T','C','G','C','T','A','C','C','T','G','A','T','C','G','T','A','C','G','G','T','A','T','C','T']\n",
    "\n",
    "SEQ= [seq1,seq2,seq3,seq4,seq5]\n",
    "\n",
    "indel = ['_']\n",
    "\n",
    "idt = 2\n",
    "sub = -1\n",
    "gap = -2"
   ]
  },
  {
   "cell_type": "code",
   "execution_count": 3,
   "id": "59ee3353",
   "metadata": {},
   "outputs": [],
   "source": [
    "def multiple(seqA, seqB):\n",
    "    score = []\n",
    "    leng=0\n",
    "    SP = []\n",
    "    if len(seqB)<len(seqA):\n",
    "        \n",
    "        leng = len(seqB)\n",
    "        diff = (len(seqA)-len(seqB))*gap\n",
    "        \n",
    "    else :\n",
    "        leng = len(seqA)\n",
    "        diff = (len(seqB)-len(seqA))*gap\n",
    "        \n",
    "    for i in range (0,leng):\n",
    "        x = 0\n",
    "        if seqB[i] == seqA[i] :\n",
    "            score.append(idt)\n",
    "            \n",
    "        elif seqB[i]== '_' or seqA[i] =='_':\n",
    "            score.append(gap)\n",
    "        else :\n",
    "            score.append(sub)\n",
    "\n",
    "    \n",
    "    score = sum(score)+diff\n",
    "    return score"
   ]
  },
  {
   "cell_type": "code",
   "execution_count": 4,
   "id": "b5c46100",
   "metadata": {},
   "outputs": [
    {
     "data": {
      "text/plain": [
       "-7"
      ]
     },
     "execution_count": 4,
     "metadata": {},
     "output_type": "execute_result"
    }
   ],
   "source": [
    "multiple(seq1, seq2)"
   ]
  },
  {
   "cell_type": "code",
   "execution_count": 5,
   "id": "34d345a0",
   "metadata": {},
   "outputs": [
    {
     "data": {
      "text/plain": [
       "-14"
      ]
     },
     "execution_count": 5,
     "metadata": {},
     "output_type": "execute_result"
    }
   ],
   "source": [
    "multiple(seq1, seq3)"
   ]
  },
  {
   "cell_type": "code",
   "execution_count": 6,
   "id": "cbca9b67",
   "metadata": {},
   "outputs": [
    {
     "data": {
      "text/plain": [
       "-22"
      ]
     },
     "execution_count": 6,
     "metadata": {},
     "output_type": "execute_result"
    }
   ],
   "source": [
    "multiple(seq1, seq4)"
   ]
  },
  {
   "cell_type": "code",
   "execution_count": 7,
   "id": "930abc32",
   "metadata": {},
   "outputs": [
    {
     "data": {
      "text/plain": [
       "-16"
      ]
     },
     "execution_count": 7,
     "metadata": {},
     "output_type": "execute_result"
    }
   ],
   "source": [
    "multiple(seq1, seq5)"
   ]
  },
  {
   "cell_type": "code",
   "execution_count": 8,
   "id": "a8ab0ac8",
   "metadata": {},
   "outputs": [
    {
     "data": {
      "text/plain": [
       "-5"
      ]
     },
     "execution_count": 8,
     "metadata": {},
     "output_type": "execute_result"
    }
   ],
   "source": [
    "multiple(seq2, seq3)"
   ]
  },
  {
   "cell_type": "code",
   "execution_count": 9,
   "id": "1d25ec25",
   "metadata": {},
   "outputs": [
    {
     "data": {
      "text/plain": [
       "11"
      ]
     },
     "execution_count": 9,
     "metadata": {},
     "output_type": "execute_result"
    }
   ],
   "source": [
    "multiple(seq2, seq4)"
   ]
  },
  {
   "cell_type": "code",
   "execution_count": 10,
   "id": "9da8a496",
   "metadata": {},
   "outputs": [
    {
     "data": {
      "text/plain": [
       "-19"
      ]
     },
     "execution_count": 10,
     "metadata": {},
     "output_type": "execute_result"
    }
   ],
   "source": [
    "multiple(seq2, seq5)"
   ]
  },
  {
   "cell_type": "code",
   "execution_count": 11,
   "id": "4c7ac750",
   "metadata": {},
   "outputs": [
    {
     "data": {
      "text/plain": [
       "4"
      ]
     },
     "execution_count": 11,
     "metadata": {},
     "output_type": "execute_result"
    }
   ],
   "source": [
    "multiple(seq3, seq4)"
   ]
  },
  {
   "cell_type": "code",
   "execution_count": 12,
   "id": "d45a3868",
   "metadata": {},
   "outputs": [
    {
     "data": {
      "text/plain": [
       "-14"
      ]
     },
     "execution_count": 12,
     "metadata": {},
     "output_type": "execute_result"
    }
   ],
   "source": [
    "multiple(seq3, seq5)"
   ]
  },
  {
   "cell_type": "code",
   "execution_count": 13,
   "id": "98834145",
   "metadata": {},
   "outputs": [
    {
     "data": {
      "text/plain": [
       "5"
      ]
     },
     "execution_count": 13,
     "metadata": {},
     "output_type": "execute_result"
    }
   ],
   "source": [
    "multiple(seq4, seq5)"
   ]
  },
  {
   "cell_type": "code",
   "execution_count": 16,
   "id": "a3fd3856",
   "metadata": {},
   "outputs": [
    {
     "name": "stdout",
     "output_type": "stream",
     "text": [
      "score d'alignement  entre\n",
      " seq 1 et seq 2 :\n",
      "-7\n",
      "score d'alignement  entre\n",
      " seq 1 et seq 3 :\n",
      "-14\n",
      "score d'alignement  entre\n",
      " seq 1 et seq 4 :\n",
      "-22\n",
      "score d'alignement  entre\n",
      " seq 1 et seq 5 :\n",
      "-16\n",
      "score d'alignement  entre\n",
      " seq 2 et seq 3 :\n",
      "-5\n",
      "score d'alignement  entre\n",
      " seq 2 et seq 4 :\n",
      "11\n",
      "score d'alignement  entre\n",
      " seq 2 et seq 5 :\n",
      "-19\n",
      "score d'alignement  entre\n",
      " seq 3 et seq 4 :\n",
      "4\n",
      "score d'alignement  entre\n",
      " seq 3 et seq 5 :\n",
      "-14\n",
      "score d'alignement  entre\n",
      " seq 4 et seq 5 :\n",
      "5\n",
      "[-7, -14, -22, -16, -5, 11, -19, 4, -14, 5]\n",
      "Somme des pairs est : -77\n"
     ]
    }
   ],
   "source": [
    "def SP():\n",
    "    SEQ = [seq1,seq2,seq3,seq4,seq5]\n",
    "    t=[]\n",
    "    for i in range(len(SEQ)):\n",
    "        x = SEQ[i]\n",
    "        for j in range(i+1,len(SEQ)):\n",
    "            y = SEQ[j]\n",
    "            print(\"score d'alignement  entre\\n seq\" ,i+1,\"et seq\",j+1,\":\")\n",
    "            r=multiple(x,y)\n",
    "            t.append(multiple(x,y))\n",
    "            print(r)\n",
    "    score=sum(t)\n",
    "    print(t)\n",
    "    print(\"Somme des pairs est :\",score)\n",
    "            \n",
    "SP()"
   ]
  },
  {
   "cell_type": "markdown",
   "id": "c7df4eff",
   "metadata": {},
   "source": [
    "### <center>  l’arbre phylogénétique en se basant sur la méthode NJ"
   ]
  },
  {
   "cell_type": "code",
   "execution_count": 120,
   "id": "6961585c",
   "metadata": {},
   "outputs": [],
   "source": [
    "#Distance \n",
    "\n",
    "def dist(seqa,seqb) :\n",
    "    \n",
    "    dist = max(len(seqa),len(seqb))\n",
    "   \n",
    "    \n",
    "    for i in range(min(len(seqa),len(seqb))) :\n",
    "        if seqa[i] == seqb[i] :\n",
    "           \n",
    "            dist = dist -1\n",
    "    return dist\n"
   ]
  },
  {
   "cell_type": "code",
   "execution_count": 121,
   "id": "84ad3a6f",
   "metadata": {},
   "outputs": [],
   "source": [
    "num_seq = ['S1','S2','S3','S4','S5']\n",
    "distance = [\n",
    "                [],    #S1\n",
    "                [dist(seq1,seq2)],      #S2\n",
    "                [dist(seq1,seq3), dist(seq2,seq3)],  #S3\n",
    "                [dist(seq1,seq4), dist(seq2,seq4), dist(seq3,seq4)],   #S4\n",
    "                [dist(seq1,seq5), dist(seq2,seq5), dist(seq3,seq5), dist(seq4,seq5)],  #S5\n",
    "                     #S1                   #S2             #S3               #S5\n",
    "\n",
    "    ]"
   ]
  },
  {
   "cell_type": "code",
   "execution_count": 122,
   "id": "2f2bd4e7",
   "metadata": {},
   "outputs": [
    {
     "name": "stdout",
     "output_type": "stream",
     "text": [
      "la table des distances : [[], [18], [20, 16], [23, 11, 13], [22, 22, 20, 14]]\n"
     ]
    }
   ],
   "source": [
    "print('la table des distances :',distance)"
   ]
  },
  {
   "cell_type": "code",
   "execution_count": 148,
   "id": "c7c2fdd1",
   "metadata": {},
   "outputs": [],
   "source": [
    "#matrice de distance\n",
    "def matr_dist(sequences):\n",
    "    length=len(sequences)\n",
    "    distance=np.zeros((length,length))\n",
    "    r=len(sequences[0])\n",
    "    i=0\n",
    "    j=i+1\n",
    "    while i<length :\n",
    "        x = sequences[i]\n",
    "        j=i+1\n",
    "        while j<length :\n",
    "            y = sequences[j]\n",
    "            k=0\n",
    "            for z in range(length):\n",
    "                f=dist(x,y)\n",
    "            distance[j][i]=f\n",
    "            j=j+1\n",
    "        i=i+1\n",
    "    \n",
    "    Matrix=distance.T\n",
    "    result=distance+Matrix\n",
    "    return result"
   ]
  },
  {
   "cell_type": "code",
   "execution_count": 149,
   "id": "0e92a7ef",
   "metadata": {},
   "outputs": [],
   "source": [
    "#affich matrice de distance\n",
    "D_matrix=matr_dist(SEQ)\n",
    "D_matrix=D_matrix.astype(int)\n",
    "df=pd.DataFrame(data=D_matrix,columns=[\"S1\",\"S2\",\"S3\",\"S4\",\"S5\"],index=[\"S1\",\"S2\",\"S3\",\"S4\",\"S5\"])  "
   ]
  },
  {
   "cell_type": "code",
   "execution_count": 150,
   "id": "80c2eac7",
   "metadata": {},
   "outputs": [
    {
     "data": {
      "text/html": [
       "<div>\n",
       "<style scoped>\n",
       "    .dataframe tbody tr th:only-of-type {\n",
       "        vertical-align: middle;\n",
       "    }\n",
       "\n",
       "    .dataframe tbody tr th {\n",
       "        vertical-align: top;\n",
       "    }\n",
       "\n",
       "    .dataframe thead th {\n",
       "        text-align: right;\n",
       "    }\n",
       "</style>\n",
       "<table border=\"1\" class=\"dataframe\">\n",
       "  <thead>\n",
       "    <tr style=\"text-align: right;\">\n",
       "      <th></th>\n",
       "      <th>S1</th>\n",
       "      <th>S2</th>\n",
       "      <th>S3</th>\n",
       "      <th>S4</th>\n",
       "      <th>S5</th>\n",
       "    </tr>\n",
       "  </thead>\n",
       "  <tbody>\n",
       "    <tr>\n",
       "      <th>S1</th>\n",
       "      <td>0</td>\n",
       "      <td>18</td>\n",
       "      <td>20</td>\n",
       "      <td>23</td>\n",
       "      <td>22</td>\n",
       "    </tr>\n",
       "    <tr>\n",
       "      <th>S2</th>\n",
       "      <td>18</td>\n",
       "      <td>0</td>\n",
       "      <td>16</td>\n",
       "      <td>11</td>\n",
       "      <td>22</td>\n",
       "    </tr>\n",
       "    <tr>\n",
       "      <th>S3</th>\n",
       "      <td>20</td>\n",
       "      <td>16</td>\n",
       "      <td>0</td>\n",
       "      <td>13</td>\n",
       "      <td>20</td>\n",
       "    </tr>\n",
       "    <tr>\n",
       "      <th>S4</th>\n",
       "      <td>23</td>\n",
       "      <td>11</td>\n",
       "      <td>13</td>\n",
       "      <td>0</td>\n",
       "      <td>14</td>\n",
       "    </tr>\n",
       "    <tr>\n",
       "      <th>S5</th>\n",
       "      <td>22</td>\n",
       "      <td>22</td>\n",
       "      <td>20</td>\n",
       "      <td>14</td>\n",
       "      <td>0</td>\n",
       "    </tr>\n",
       "  </tbody>\n",
       "</table>\n",
       "</div>"
      ],
      "text/plain": [
       "    S1  S2  S3  S4  S5\n",
       "S1   0  18  20  23  22\n",
       "S2  18   0  16  11  22\n",
       "S3  20  16   0  13  20\n",
       "S4  23  11  13   0  14\n",
       "S5  22  22  20  14   0"
      ]
     },
     "execution_count": 150,
     "metadata": {},
     "output_type": "execute_result"
    }
   ],
   "source": [
    "df"
   ]
  },
  {
   "cell_type": "code",
   "execution_count": 218,
   "id": "a9c71953",
   "metadata": {},
   "outputs": [],
   "source": [
    "####################################################\n",
    "\t\t\t\t\t#  NJ predefinie\n",
    "####################################################"
   ]
  },
  {
   "cell_type": "code",
   "execution_count": 212,
   "id": "a0b272c2",
   "metadata": {},
   "outputs": [
    {
     "name": "stdout",
     "output_type": "stream",
     "text": [
      "Alignment with 5 rows and 25 columns\n",
      "ACGCGATGACCGGGCCTTGTAAAAT sequence1\n",
      "ACCCTACCTGTCGTATTGTAAT--- sequence2\n",
      "ATGATGACAGGGCTTGTAACT---- sequence3\n",
      "TTCATGACCGGCTTATACTTAT--- sequence4\n",
      "TTCGCTACCTGATCGTACGGTATCT sequence5\n"
     ]
    }
   ],
   "source": [
    "# Read the sequences and align\n",
    "align = AlignIO.read('msa.phy','phylip')\n",
    "print(align)"
   ]
  },
  {
   "cell_type": "code",
   "execution_count": 216,
   "id": "f8e2ac88",
   "metadata": {},
   "outputs": [],
   "source": [
    "# Calculate the distance matrix\n",
    "calculator = DistanceCalculator('identity')\n",
    "distMatrix = calculator.get_distance(align)\n",
    "# Creating a DistanceTreeConstructor object\n",
    "constructor = DistanceTreeConstructor()"
   ]
  },
  {
   "cell_type": "code",
   "execution_count": 217,
   "id": "023aeb8a",
   "metadata": {},
   "outputs": [
    {
     "data": {
      "image/png": "[encoded data removed]",
      "text/plain": [
       "<Figure size 432x288 with 1 Axes>"
      ]
     },
     "metadata": {
      "needs_background": "light"
     },
     "output_type": "display_data"
    },
    {
     "name": "stdout",
     "output_type": "stream",
     "text": [
      "            _________________________________________________ sequence5\n",
      "  _________|\n",
      " |         |____________________ sequence4\n",
      " |\n",
      "_|       ___________________________________________________________ sequence1\n",
      " |______|\n",
      " |      |_________________________________ sequence2\n",
      " |\n",
      " |_____________________________________ sequence3\n",
      "\n"
     ]
    }
   ],
   "source": [
    "#  NJ\n",
    "\n",
    "# Construct the phlyogenetic tree using NJ algorithm\n",
    "NJTree = constructor.nj(distMatrix)\n",
    "\n",
    "# Draw the phlyogenetic tree\n",
    "Phylo.draw(NJTree)\n",
    "\n",
    "# Printing the phlyogenetic tree using terminal\n",
    "Phylo.draw_ascii(NJTree)\n"
   ]
  },
  {
   "cell_type": "markdown",
   "id": "d42b6917",
   "metadata": {},
   "source": [
    "### Algorithme Claustal"
   ]
  },
  {
   "cell_type": "code",
   "execution_count": 221,
   "id": "9119542b",
   "metadata": {},
   "outputs": [
    {
     "data": {
      "text/plain": [
       "<matplotlib.image.AxesImage at 0x278a5a06cd0>"
      ]
     },
     "execution_count": 221,
     "metadata": {},
     "output_type": "execute_result"
    },
    {
     "data": {
      "image/png": "[encoded data removed]",
      "text/plain": [
       "<Figure size 432x288 with 1 Axes>"
      ]
     },
     "metadata": {
      "needs_background": "light"
     },
     "output_type": "display_data"
    }
   ],
   "source": [
    "img=plt.imread(\"alignement.png\")\n",
    "plt.imshow(img)"
   ]
  },
  {
   "cell_type": "code",
   "execution_count": 220,
   "id": "9aeec22b",
   "metadata": {},
   "outputs": [
    {
     "data": {
      "text/plain": [
       "<matplotlib.image.AxesImage at 0x278a5993a90>"
      ]
     },
     "execution_count": 220,
     "metadata": {},
     "output_type": "execute_result"
    },
    {
     "data": {
      "image/png": "[encoded data removed]",
      "text/plain": [
       "<Figure size 432x288 with 1 Axes>"
      ]
     },
     "metadata": {
      "needs_background": "light"
     },
     "output_type": "display_data"
    }
   ],
   "source": [
    "img=plt.imread(\"tree.png\")\n",
    "plt.imshow(img)"
   ]
  },
  {
   "cell_type": "code",
   "execution_count": 222,
   "id": "e94b2e7d",
   "metadata": {},
   "outputs": [
    {
     "data": {
      "text/plain": [
       "<matplotlib.image.AxesImage at 0x278a6058df0>"
      ]
     },
     "execution_count": 222,
     "metadata": {},
     "output_type": "execute_result"
    },
    {
     "data": {
      "image/png": "[encoded data removed]",
      "text/plain": [
       "<Figure size 432x288 with 1 Axes>"
      ]
     },
     "metadata": {
      "needs_background": "light"
     },
     "output_type": "display_data"
    }
   ],
   "source": [
    "img=plt.imread(\"tree1.png\")\n",
    "plt.imshow(img)"
   ]
  },
  {
   "cell_type": "markdown",
   "id": "afa0c629",
   "metadata": {},
   "source": [
    "#### Remarque : les deux algorithmes nj et claustral ne donnent pas les meme résultat cela est du aux différences de calcul de distances, pendant que nj fusionne d'abbord la séquence 5 avec la séquence 4 puis fusionne ces dernière avec la 2 ème suivie de la 1ère puis la 3ème séquence \n",
    "\n",
    "#### l'algorithme claustral fusionne d'abbord la séquence 2 avec la séquence 5 ensuite le tout avec la séquence 4 , la 1èr avec la 3ème puis fusionne le tout ensemble "
   ]
  },
  {
   "cell_type": "code",
   "execution_count": null,
   "id": "3cb823a8",
   "metadata": {},
   "outputs": [],
   "source": []
  }
 ],
 "metadata": {
  "kernelspec": {
   "display_name": "Python 3 (ipykernel)",
   "language": "python",
   "name": "python3"
  },
  "language_info": {
   "codemirror_mode": {
    "name": "ipython",
    "version": 3
   },
   "file_extension": ".py",
   "mimetype": "text/x-python",
   "name": "python",
   "nbconvert_exporter": "python",
   "pygments_lexer": "ipython3",
   "version": "3.9.7"
  }
 },
 "nbformat": 4,
 "nbformat_minor": 5
}
